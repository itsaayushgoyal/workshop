{
  "nbformat": 4,
  "nbformat_minor": 0,
  "metadata": {
    "colab": {
      "provenance": []
    },
    "kernelspec": {
      "name": "python3",
      "display_name": "Python 3"
    },
    "language_info": {
      "name": "python"
    }
  },
  "cells": [
    {
      "cell_type": "code",
      "source": [
        "45+65"
      ],
      "metadata": {
        "colab": {
          "base_uri": "https://localhost:8080/"
        },
        "id": "y56S5UVphB7q",
        "outputId": "d9da4f7a-3782-4834-e0ec-5f8346a20300"
      },
      "execution_count": null,
      "outputs": [
        {
          "output_type": "execute_result",
          "data": {
            "text/plain": [
              "110"
            ]
          },
          "metadata": {},
          "execution_count": 1
        }
      ]
    },
    {
      "cell_type": "code",
      "execution_count": null,
      "metadata": {
        "colab": {
          "base_uri": "https://localhost:8080/"
        },
        "id": "r_9f_K-0f8-s",
        "outputId": "7de1b921-6f6e-4657-9a8d-2ff16788df59"
      },
      "outputs": [
        {
          "output_type": "stream",
          "name": "stdout",
          "text": [
            "hello world\n"
          ]
        }
      ],
      "source": [
        "print(\"hello world\")"
      ]
    },
    {
      "cell_type": "code",
      "source": [
        "b=\"hello coders99\"\n",
        "b\n",
        "print(b)"
      ],
      "metadata": {
        "colab": {
          "base_uri": "https://localhost:8080/"
        },
        "id": "PsdnjMjuhBy6",
        "outputId": "36eba211-6198-4937-dcb5-55b7c0b95ed9"
      },
      "execution_count": null,
      "outputs": [
        {
          "output_type": "stream",
          "name": "stdout",
          "text": [
            "hello coders99\n"
          ]
        }
      ]
    },
    {
      "cell_type": "code",
      "source": [
        "pwd"
      ],
      "metadata": {
        "colab": {
          "base_uri": "https://localhost:8080/",
          "height": 36
        },
        "id": "8rN32vU-kRwW",
        "outputId": "ac217f6b-cc95-46bb-9aee-3b6d30ce96c6"
      },
      "execution_count": null,
      "outputs": [
        {
          "output_type": "execute_result",
          "data": {
            "text/plain": [
              "'/content'"
            ],
            "application/vnd.google.colaboratory.intrinsic+json": {
              "type": "string"
            }
          },
          "metadata": {},
          "execution_count": 7
        }
      ]
    },
    {
      "cell_type": "code",
      "source": [
        "from google.colab import drive\n",
        "drive.mount(\"/content/drive\")"
      ],
      "metadata": {
        "colab": {
          "base_uri": "https://localhost:8080/"
        },
        "id": "rD89RmU-lVDv",
        "outputId": "d5ed7fd8-8e97-436e-fb84-7ef51a6af592"
      },
      "execution_count": null,
      "outputs": [
        {
          "output_type": "stream",
          "name": "stdout",
          "text": [
            "Mounted at /content/drive\n"
          ]
        }
      ]
    },
    {
      "cell_type": "code",
      "source": [],
      "metadata": {
        "id": "fCNmEir1lzWl"
      },
      "execution_count": null,
      "outputs": []
    },
    {
      "cell_type": "markdown",
      "source": [
        "![ME.jpg](data:image/jpeg;base64,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)"
      ],
      "metadata": {
        "id": "ssligH6Zme3H"
      }
    },
    {
      "cell_type": "code",
      "source": [
        "n =[]\n",
        "sq =[]\n",
        "cb = []\n",
        "\n",
        "for i in range(20):\n",
        "  a =i \n",
        "  b =i**2\n",
        "  c =i**3\n",
        "\n",
        "  n.append(a)\n",
        "  sq.append(b)\n",
        "  cb.append(c)"
      ],
      "metadata": {
        "id": "-ihYnX2ptEqF"
      },
      "execution_count": null,
      "outputs": []
    },
    {
      "cell_type": "code",
      "source": [
        "n"
      ],
      "metadata": {
        "colab": {
          "base_uri": "https://localhost:8080/"
        },
        "id": "VzzcViLJzPD8",
        "outputId": "13918580-9eb7-4512-b7bd-471998de09a7"
      },
      "execution_count": null,
      "outputs": [
        {
          "output_type": "execute_result",
          "data": {
            "text/plain": [
              "[0, 1, 2, 3, 4, 5, 6, 7, 8, 9, 10, 11, 12, 13, 14, 15, 16, 17, 18, 19]"
            ]
          },
          "metadata": {},
          "execution_count": 15
        }
      ]
    },
    {
      "cell_type": "code",
      "source": [
        "sq"
      ],
      "metadata": {
        "colab": {
          "base_uri": "https://localhost:8080/"
        },
        "id": "YHZ-fsszzY3S",
        "outputId": "a6ee8d92-98c7-48cb-c37c-4d1b0281d0bd"
      },
      "execution_count": null,
      "outputs": [
        {
          "output_type": "execute_result",
          "data": {
            "text/plain": [
              "[0,\n",
              " 1,\n",
              " 4,\n",
              " 9,\n",
              " 16,\n",
              " 25,\n",
              " 36,\n",
              " 49,\n",
              " 64,\n",
              " 81,\n",
              " 100,\n",
              " 121,\n",
              " 144,\n",
              " 169,\n",
              " 196,\n",
              " 225,\n",
              " 256,\n",
              " 289,\n",
              " 324,\n",
              " 361]"
            ]
          },
          "metadata": {},
          "execution_count": 16
        }
      ]
    },
    {
      "cell_type": "code",
      "source": [
        "cb"
      ],
      "metadata": {
        "colab": {
          "base_uri": "https://localhost:8080/"
        },
        "id": "B3SDLYTszaZM",
        "outputId": "99678a07-c9dd-4e6b-bf5c-8fd6cba73c96"
      },
      "execution_count": null,
      "outputs": [
        {
          "output_type": "execute_result",
          "data": {
            "text/plain": [
              "[0,\n",
              " 1,\n",
              " 8,\n",
              " 27,\n",
              " 64,\n",
              " 125,\n",
              " 216,\n",
              " 343,\n",
              " 512,\n",
              " 729,\n",
              " 1000,\n",
              " 1331,\n",
              " 1728,\n",
              " 2197,\n",
              " 2744,\n",
              " 3375,\n",
              " 4096,\n",
              " 4913,\n",
              " 5832,\n",
              " 6859]"
            ]
          },
          "metadata": {},
          "execution_count": 17
        }
      ]
    },
    {
      "cell_type": "code",
      "source": [
        "import matplotlib.pyplot as plt \n",
        "plt.plot(n,sq, ',-',n,cb,'*-')\n",
        "plt.show()"
      ],
      "metadata": {
        "colab": {
          "base_uri": "https://localhost:8080/",
          "height": 265
        },
        "id": "qi_J5ZpbzbpD",
        "outputId": "5945f30e-9571-45f7-9fa4-33a9174adf17"
      },
      "execution_count": null,
      "outputs": [
        {
          "output_type": "display_data",
          "data": {
            "text/plain": [
              "<Figure size 432x288 with 1 Axes>"
            ],
            "image/png": "[encoded data removed]"
          },
          "metadata": {
            "needs_background": "light"
          }
        }
      ]
    },
    {
      "cell_type": "code",
      "source": [],
      "metadata": {
        "id": "0FDrCdIh0c5u"
      },
      "execution_count": null,
      "outputs": []
    }
  ]
}